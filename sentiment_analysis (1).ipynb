{
  "nbformat": 4,
  "nbformat_minor": 0,
  "metadata": {
    "colab": {
      "provenance": []
    },
    "kernelspec": {
      "name": "python3",
      "display_name": "Python 3"
    },
    "language_info": {
      "name": "python"
    }
  },
  "cells": [
    {
      "cell_type": "code",
      "source": [
        "import pandas as pd\n",
        "import nltk"
      ],
      "metadata": {
        "id": "3Jpc_Oufx3ok"
      },
      "execution_count": null,
      "outputs": []
    },
    {
      "cell_type": "code",
      "source": [
        "sentiment_data = pd.read_csv('/content/drive/MyDrive/Tweets.csv')"
      ],
      "metadata": {
        "id": "MKxbfbUSzoiv"
      },
      "execution_count": null,
      "outputs": []
    },
    {
      "cell_type": "code",
      "source": [
        "sentiment_data.head(10)\n"
      ],
      "metadata": {
        "id": "Kr59umZT1N7p"
      },
      "execution_count": null,
      "outputs": []
    },
    {
      "cell_type": "code",
      "source": [
        "sentiment_data.shape"
      ],
      "metadata": {
        "id": "-llFIOb22Ehm"
      },
      "execution_count": null,
      "outputs": []
    },
    {
      "cell_type": "code",
      "source": [
        "sentiment_df = sentiment_data.drop(sentiment_data[sentiment_data['airline_sentiment_confidence']<0.5].index, axis= 0)"
      ],
      "metadata": {
        "id": "7DcsBjUo2Mha"
      },
      "execution_count": null,
      "outputs": []
    },
    {
      "cell_type": "code",
      "source": [
        "sentiment_df.shape"
      ],
      "metadata": {
        "id": "brxvSRea2Qyy"
      },
      "execution_count": null,
      "outputs": []
    },
    {
      "cell_type": "code",
      "source": [
        "X = sentiment_df['text']\n",
        "Y = sentiment_df['airline_sentiment']"
      ],
      "metadata": {
        "id": "C2BtmG232V4l"
      },
      "execution_count": null,
      "outputs": []
    },
    {
      "cell_type": "code",
      "source": [
        "from nltk.corpus import stopwords\n",
        "nltk.download('stopwords')\n",
        "import string\n",
        "from nltk.stem import WordNetLemmatizer\n",
        "lemmatizer = WordNetLemmatizer()"
      ],
      "metadata": {
        "id": "xjrWMOuu2aQi"
      },
      "execution_count": null,
      "outputs": []
    },
    {
      "cell_type": "code",
      "source": [
        "stop_words = stopwords.words('english')\n",
        "punctuations = string.punctuation"
      ],
      "metadata": {
        "id": "NxczMIq62g87"
      },
      "execution_count": null,
      "outputs": []
    },
    {
      "cell_type": "code",
      "source": [
        "import re\n",
        "nltk.download('wordnet')\n",
        "\n",
        "clean_data = []\n",
        "for i in range(len(X)):\n",
        "  text = re.sub('[^a-zA-Z]', ' ',X.iloc[i])\n",
        "  text = text.lower().split()\n",
        "  text = [lemmatizer.lemmatize(word) for word in text if (word not in stop_words) and (word not in punctuations)]\n",
        "  text = ' '.join(text)\n",
        "  clean_data.append(text)"
      ],
      "metadata": {
        "id": "Ss2Ok_-D2j1O"
      },
      "execution_count": null,
      "outputs": []
    },
    {
      "cell_type": "code",
      "source": [
        "clean_data\n"
      ],
      "metadata": {
        "id": "PQibfFu62oIJ"
      },
      "execution_count": null,
      "outputs": []
    },
    {
      "cell_type": "code",
      "source": [
        "Y\n"
      ],
      "metadata": {
        "id": "hWAZmaa92tMD"
      },
      "execution_count": null,
      "outputs": []
    },
    {
      "cell_type": "code",
      "source": [
        "sentiments = ['negative' , 'neutral', 'positive']\n",
        "Y = Y.apply(lambda x: sentiments.index(x))"
      ],
      "metadata": {
        "id": "NaKwjQfy20yF"
      },
      "execution_count": null,
      "outputs": []
    },
    {
      "cell_type": "code",
      "source": [
        "Y.head()"
      ],
      "metadata": {
        "id": "-r08pvwe23LS"
      },
      "execution_count": null,
      "outputs": []
    },
    {
      "cell_type": "code",
      "source": [
        "from sklearn.feature_extraction.text import CountVectorizer\n",
        "\n",
        "count_vectorizer = CountVectorizer(max_features = 5000, stop_words = ['virginamerica','united'])\n",
        "X_fit = count_vectorizer.fit_transform(clean_data).toarray()"
      ],
      "metadata": {
        "id": "3_Qg7zzV248V"
      },
      "execution_count": null,
      "outputs": []
    },
    {
      "cell_type": "code",
      "source": [
        "X_fit.shape"
      ],
      "metadata": {
        "id": "IRQtf-Rx28vI"
      },
      "execution_count": null,
      "outputs": []
    },
    {
      "cell_type": "code",
      "source": [
        "from sklearn.naive_bayes import MultinomialNB\n",
        "from sklearn.model_selection import train_test_split\n",
        "model = MultinomialNB()"
      ],
      "metadata": {
        "id": "QViPHnJs3CTj"
      },
      "execution_count": null,
      "outputs": []
    },
    {
      "cell_type": "code",
      "source": [
        "X_train, X_test, Y_train, Y_test = train_test_split(X_fit,Y, test_size = 0.3)"
      ],
      "metadata": {
        "id": "Z3_kr2Qx3Fqg"
      },
      "execution_count": null,
      "outputs": []
    },
    {
      "cell_type": "code",
      "source": [
        "model.fit(X_train,Y_train)"
      ],
      "metadata": {
        "id": "QKL_2UI03JMa"
      },
      "execution_count": null,
      "outputs": []
    },
    {
      "cell_type": "code",
      "source": [
        "y_pred = model.predict(X_test)"
      ],
      "metadata": {
        "id": "mD2r8a9B3Pei"
      },
      "execution_count": null,
      "outputs": []
    },
    {
      "cell_type": "code",
      "source": [
        "from sklearn.metrics import classification_report\n",
        "\n",
        "classification = classification_report(Y_test,y_pred)\n",
        "print(classification)"
      ],
      "metadata": {
        "id": "qcSP2AUL3QxG"
      },
      "execution_count": null,
      "outputs": []
    },
    {
      "cell_type": "code",
      "source": [],
      "metadata": {
        "id": "lr3F-dQW3U43"
      },
      "execution_count": null,
      "outputs": []
    }
  ]
}